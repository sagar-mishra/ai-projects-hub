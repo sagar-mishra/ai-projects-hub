{
 "cells": [
  {
   "cell_type": "code",
   "execution_count": 1,
   "source": [
    "print(\"sample training notebook\")"
   ],
   "outputs": [
    {
     "output_type": "stream",
     "name": "stdout",
     "text": [
      "sample training notebook\n"
     ]
    }
   ],
   "metadata": {}
  }
 ],
 "metadata": {
  "orig_nbformat": 4,
  "language_info": {
   "name": "python",
   "version": "3.7.10",
   "mimetype": "text/x-python",
   "codemirror_mode": {
    "name": "ipython",
    "version": 3
   },
   "pygments_lexer": "ipython3",
   "nbconvert_exporter": "python",
   "file_extension": ".py"
  },
  "kernelspec": {
   "name": "python3",
   "display_name": "Python 3.7.10 64-bit ('fpclassification': conda)"
  },
  "interpreter": {
   "hash": "528ef41b1e7c83b648c86e42c652b71cf7610cdc5d8bfb5ac972910d678266d9"
  }
 },
 "nbformat": 4,
 "nbformat_minor": 2
}