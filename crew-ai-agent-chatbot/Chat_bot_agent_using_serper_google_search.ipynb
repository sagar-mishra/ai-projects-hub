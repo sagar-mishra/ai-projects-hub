{
 "cells": [
  {
   "cell_type": "markdown",
   "metadata": {},
   "source": [
    "## Serper API\n",
    "\n",
    "https://serper.dev/dashboard"
   ]
  },
  {
   "cell_type": "code",
   "execution_count": 1,
   "metadata": {},
   "outputs": [
    {
     "name": "stderr",
     "output_type": "stream",
     "text": [
      "c:\\Users\\asus\\anaconda3\\envs\\crew_ai_agent\\Lib\\site-packages\\pydantic\\_internal\\_generate_schema.py:775: UserWarning: Mixing V1 models and V2 models (or constructs, like `TypeAdapter`) is not supported. Please upgrade `CrewAgentExecutor` to V2.\n",
      "  warn(\n"
     ]
    }
   ],
   "source": [
    "from crewai import Agent, Task, Crew\n",
    "from langchain_community.llms import Ollama"
   ]
  },
  {
   "cell_type": "markdown",
   "metadata": {},
   "source": [
    "<h3> LLM model </h3>"
   ]
  },
  {
   "cell_type": "code",
   "execution_count": 2,
   "metadata": {},
   "outputs": [],
   "source": [
    "_llama = Ollama(model=\"mistral\", base_url=\"http://127.0.0.1:11434\")"
   ]
  },
  {
   "cell_type": "markdown",
   "metadata": {},
   "source": [
    "### Tools"
   ]
  },
  {
   "cell_type": "code",
   "execution_count": 6,
   "metadata": {},
   "outputs": [],
   "source": [
    "from crewai_tools import SerperDevTool\n",
    "import api_utils\n",
    "import os"
   ]
  },
  {
   "cell_type": "code",
   "execution_count": 7,
   "metadata": {},
   "outputs": [],
   "source": [
    "os.environ[\"SERPER_API_KEY\"] = api_utils.SERPER_API_KEY\n",
    "serper_dev_tool = SerperDevTool()\n",
    "\n",
    "# to test serper dev tool run below code\n",
    "#print(serper_dev_tool.run(search_query=\"weather of Ratlam\"))"
   ]
  },
  {
   "cell_type": "markdown",
   "metadata": {},
   "source": [
    "### Agent"
   ]
  },
  {
   "cell_type": "code",
   "execution_count": 8,
   "metadata": {},
   "outputs": [],
   "source": [
    "# Create an Agent with Google Search Tool\n",
    "query_agent = Agent(\n",
    "    role=\"Query Resolver\",\n",
    "    goal=\"Answer user queries accurately using AI and real-time web search.\",\n",
    "    backstory=\"An intelligent assistant that leverages AI and web search for precise answers.\",\n",
    "    tools=[serper_dev_tool],\n",
    "    llm=_llama\n",
    ")"
   ]
  },
  {
   "cell_type": "markdown",
   "metadata": {},
   "source": [
    "### Task for an agent"
   ]
  },
  {
   "cell_type": "code",
   "execution_count": null,
   "metadata": {},
   "outputs": [],
   "source": [
    "# Define a Single Task\n",
    "query_task = Task(\n",
    "    description=\"Answer the user question: {user_question}. Use AI for general queries and Google Search for real-time information.\",\n",
    "    expected_output=\"A well-researched, accurate and precise answer based on AI and web search results.\",\n",
    "    agent=query_agent\n",
    ")"
   ]
  },
  {
   "cell_type": "markdown",
   "metadata": {},
   "source": [
    "### Creating the crew"
   ]
  },
  {
   "cell_type": "code",
   "execution_count": 10,
   "metadata": {},
   "outputs": [
    {
     "name": "stdout",
     "output_type": "stream",
     "text": [
      "\u001b[1m\u001b[95m [DEBUG]: == Working Agent: Query Resolver\u001b[00m\n",
      "\u001b[1m\u001b[95m [INFO]: == Starting Task: Answer the user question: what is the weather of Ratlam, Madhya Pradesh?. Use AI for general queries and Google Search for real-time information.\u001b[00m\n",
      "\u001b[95m \n",
      "\n",
      "\n",
      "Search results: Title: Ratlam, Madhya Pradesh, India Weather Forecast - AccuWeather\n",
      "Link: https://www.accuweather.com/en/in/ratlam/189110/weather-forecast/189110\n",
      "Snippet: Ratlam, Madhya Pradesh · 1 PM 96°. rain drop 0% · 2 PM 99°. rain drop 0% · 3 PM 98°. rain drop 0% · 4 PM 96°. rain drop 0% · 5 PM 94°. rain drop 0% · 6 PM 91°.\n",
      "---\n",
      "Title: Current Weather - Ratlam, Madhya Pradesh - AccuWeather\n",
      "Link: https://www.accuweather.com/en/in/ratlam/189110/current-weather/189110\n",
      "Snippet: Ratlam, Madhya Pradesh · Current Weather. 8:09 AM. 75°F. Hazy sunshine. RealFeel® 75°. Pleasant. RealFeel Guide. Pleasant. 63° to 81°. Most consider ...\n",
      "---\n",
      "Title: 10-day weather forecast for Ratlam, Madhya Pradesh, India\n",
      "Link: https://weather.com/en-LC/weather/tenday/l/5222c9163116f28df66843c892ac76adf7cde2c298e8736914ada8529b77fbe0\n",
      "Snippet: 10-Day Weather-Ratlam, Madhya Pradesh, India. As of 11:21 IST. Today. 35°/19°. 0%. Sun 23 | Day. 35°. NNE 8 km/h. Generally clear. Hazy.\n",
      "---\n",
      "Title: Ratlam, Madhya Pradesh, India 14 day weather forecast\n",
      "Link: https://www.timeanddate.com/weather/india/ratlam/ext\n",
      "Snippet: Sunny. Feels Like: 92 °F. Humidity: 17%. Precipitation: Rain: 0 Snow: 0. Precipitation Chance: 9%. W. Wind: 10 mph.\n",
      "---\n",
      "Title: Weather Forecast and Conditions for Ratlam, Madhya Pradesh, India\n",
      "Link: https://weather.com/weather/today/l/179f6f68986fdeb5a918a100966ed3ca590f5c176fbaf128de2ab9454df74595\n",
      "Snippet: Ratlam, Madhya Pradesh, India Forecast · Morning. 89°. -- · Afternoon. 95°. -- · Evening. 78°. Chance of Rain0% · Overnight. 67°. Chance of Rain0% ...\n",
      "---\n",
      "Title: Ratlam Weather | Ratlam Temperature Today | Times of India Travel\n",
      "Link: https://timesofindia.indiatimes.com/travel/ratlam/weather\n",
      "Snippet: Today's temperature in Ratlam is 36°c. Day's maximum temperature would hover at 37°c, while minimum temperature is predicted to be 22°c.\n",
      "---\n",
      "Title: Ratlam, India Hourly Weather Forecast\n",
      "Link: https://www.wunderground.com/hourly/in/ratlam\n",
      "Snippet: Ratlam, Madhya Pradesh, India Hourly Weather Forecaststar_ratehome ; 3:00 pm, Mostly Cloudy, 92 °F ; 4:00 pm, Mostly Cloudy, 91 °F ; 5:00 pm, Mostly Cloudy, 89 °F ...\n",
      "---\n",
      "Title: Ratlam, India 10-Day Weather Forecast\n",
      "Link: https://www.wunderground.com/forecast/in/ratlam\n",
      "Snippet: Ratlam, Madhya Pradesh, India 10-Day Weather Forecaststar_ratehome ; Sun. Rise. Set ; Actual Time. 6:22 AM. 6:46 PM ; Civil Twilight. 5:59 AM. 7:09 PM ; Nautical ...\n",
      "---\n",
      "Title: Ratlam Weather Today and AQI Level\n",
      "Link: https://www.businesstoday.in/weather/ratlam-weather-forecast-today\n",
      "Snippet: Today's minimum temperature in Ratlam is recorded at 24°c (degrees celsius), and the maximum temperature is expected to go as high as 36°c (degrees celsius) ...\n",
      "---\n",
      "Title: Hourly forecast for Ratlam, Madhya Pradesh, India - Time and Date\n",
      "Link: https://www.timeanddate.com/weather/india/ratlam/hourly\n",
      "Snippet: Hour-by-hour Forecast in Ratlam — Graph ... Overcast. Feels Like: 95 °F. Humidity: 20%. Precipitation: Rain: 0 ...\n",
      "---\n",
      "\n",
      "\u001b[00m\n",
      "\u001b[1m\u001b[92m [DEBUG]: == [Query Resolver] Task output: The current weather in Ratlam, Madhya Pradesh is sunny with a temperature of 36°C (feels like 92 °F). Humidity is at 17%. Precipitation chance is 9%. Wind speed is 10 mph. You can find more detailed and hourly forecasts on the following websites: [AccuWeather](https://www.accuweather.com/en/in/ratlam/189110/weather-forecast/189110), [Time and Date](https://www.timeanddate.com/weather/india/ratlam/ext), [Wunderground](https://www.wunderground.com/hourly/in/ratlam).\n",
      "\n",
      "\u001b[00m\n",
      "Response:\n",
      " The current weather in Ratlam, Madhya Pradesh is sunny with a temperature of 36°C (feels like 92 °F). Humidity is at 17%. Precipitation chance is 9%. Wind speed is 10 mph. You can find more detailed and hourly forecasts on the following websites: [AccuWeather](https://www.accuweather.com/en/in/ratlam/189110/weather-forecast/189110), [Time and Date](https://www.timeanddate.com/weather/india/ratlam/ext), [Wunderground](https://www.wunderground.com/hourly/in/ratlam).\n"
     ]
    }
   ],
   "source": [
    "# Crew to Manage Execution\n",
    "crew = Crew(\n",
    "    agents=[query_agent],\n",
    "    tasks=[query_task],\n",
    "    verbose=True\n",
    ")\n",
    "\n",
    "# Example Query\n",
    "# user_question = \"What is the weather today in Ratlam, Madhya Pradesh, India?\"\n",
    "# response = crew.kickoff(inputs={\"user_question\": user_question,\"search_query\": user_question})\n",
    "\n",
    "# # **Run AI Assistant**\n",
    "user_question = input(\"Ask me anything? \")\n",
    "response = crew.kickoff(inputs={\"user_question\": user_question, \"search_query\": user_question})\n",
    "\n",
    "print(\"Response:\\n\", response)"
   ]
  },
  {
   "cell_type": "code",
   "execution_count": null,
   "metadata": {},
   "outputs": [],
   "source": []
  }
 ],
 "metadata": {
  "kernelspec": {
   "display_name": "crew_ai_agent",
   "language": "python",
   "name": "python3"
  },
  "language_info": {
   "codemirror_mode": {
    "name": "ipython",
    "version": 3
   },
   "file_extension": ".py",
   "mimetype": "text/x-python",
   "name": "python",
   "nbconvert_exporter": "python",
   "pygments_lexer": "ipython3",
   "version": "3.11.11"
  }
 },
 "nbformat": 4,
 "nbformat_minor": 2
}
