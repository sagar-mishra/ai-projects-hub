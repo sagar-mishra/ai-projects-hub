{
 "cells": [
  {
   "cell_type": "markdown",
   "metadata": {},
   "source": [
    "## SERP\n",
    "https://serpapi.com/dashboard"
   ]
  },
  {
   "cell_type": "code",
   "execution_count": 1,
   "metadata": {},
   "outputs": [
    {
     "name": "stderr",
     "output_type": "stream",
     "text": [
      "c:\\Users\\asus\\anaconda3\\envs\\crew_ai_agent\\Lib\\site-packages\\pydantic\\_internal\\_generate_schema.py:775: UserWarning: Mixing V1 models and V2 models (or constructs, like `TypeAdapter`) is not supported. Please upgrade `CrewAgentExecutor` to V2.\n",
      "  warn(\n"
     ]
    }
   ],
   "source": [
    "from crewai import Agent, Task, Crew\n",
    "from langchain_community.llms import Ollama"
   ]
  },
  {
   "cell_type": "markdown",
   "metadata": {},
   "source": [
    "<h3> LLM model </h3>"
   ]
  },
  {
   "cell_type": "code",
   "execution_count": 2,
   "metadata": {},
   "outputs": [],
   "source": [
    "_llama = Ollama(model=\"mistral\", base_url=\"http://127.0.0.1:11434\")"
   ]
  },
  {
   "cell_type": "markdown",
   "metadata": {},
   "source": [
    "### Tools"
   ]
  },
  {
   "cell_type": "code",
   "execution_count": 4,
   "id": "abacf81d",
   "metadata": {},
   "outputs": [],
   "source": [
    "from crewai_tools import Tool\n",
    "import requests\n",
    "import api_utils\n",
    "# Function to perform Google Search using SERP API\n",
    "def google_search(query: str):\n",
    "    API_KEY = api_utils.SERP_API_KEY # Ensure your SERP_API_KEY is correct\n",
    "    url = f\"https://serpapi.com/search.json?q={query}&api_key={API_KEY}\"\n",
    "    \n",
    "    try:\n",
    "        response = requests.get(url, timeout=10)  # Set timeout\n",
    "        response.raise_for_status()  # Raise error for bad responses (4xx, 5xx)\n",
    "        data = response.json()\n",
    "        \n",
    "        # Extract top 3 results\n",
    "        results = [\n",
    "            result.get(\"snippet\", \"No description available.\")\n",
    "            for result in data.get(\"organic_results\", [])\n",
    "        ]\n",
    "        \n",
    "        return \"\\n\".join(results[:3]) if results else \"No relevant search results found.\"\n",
    "    \n",
    "    except requests.exceptions.RequestException as e:\n",
    "        return f\"Error fetching search results: {str(e)}\"\n",
    "\n",
    "# Define Google Search as a Tool\n",
    "search_tool = Tool(\n",
    "    name=\"Google Search\",\n",
    "    func=google_search,\n",
    "    description=\"Quickly search Google for real-time information.\"\n",
    ")"
   ]
  },
  {
   "cell_type": "markdown",
   "metadata": {},
   "source": [
    "### Agent"
   ]
  },
  {
   "cell_type": "code",
   "execution_count": 5,
   "metadata": {},
   "outputs": [],
   "source": [
    "# Create an Agent with Google Search Tool\n",
    "query_agent = Agent(\n",
    "    role=\"Query Resolver\",\n",
    "    goal=\"Answer user queries accurately using AI and real-time web search.\",\n",
    "    backstory=\"An intelligent assistant that leverages AI and web search for precise answers.\",\n",
    "    tools=[search_tool],\n",
    "    llm=_llama\n",
    ")"
   ]
  },
  {
   "cell_type": "markdown",
   "metadata": {},
   "source": [
    "### Task for an agent"
   ]
  },
  {
   "cell_type": "code",
   "execution_count": 6,
   "metadata": {},
   "outputs": [],
   "source": [
    "    # Define a Single Task\n",
    "query_task = Task(\n",
    "    description=\"Answer the user question: {user_question}. Use AI for general queries and Google Search for real-time information.\",\n",
    "    expected_output=\"A well-researched, accurate and precise answer based on AI and web search results.\",\n",
    "    agent=query_agent\n",
    ")"
   ]
  },
  {
   "cell_type": "markdown",
   "metadata": {},
   "source": [
    "### Creating the crew"
   ]
  },
  {
   "cell_type": "code",
   "execution_count": 8,
   "metadata": {},
   "outputs": [
    {
     "name": "stderr",
     "output_type": "stream",
     "text": [
      "2025-04-03 18:34:35,419 - 6372 - __init__.py-__init__:537 - WARNING: Overriding of current TracerProvider is not allowed\n"
     ]
    },
    {
     "name": "stdout",
     "output_type": "stream",
     "text": [
      "\u001b[1m\u001b[95m [DEBUG]: == Working Agent: Query Resolver\u001b[00m\n",
      "\u001b[1m\u001b[95m [INFO]: == Starting Task: Answer the user question: Veg restaurant in delhi?. Use AI for general queries and Google Search for real-time information.\u001b[00m\n",
      "\u001b[95m \n",
      "\n",
      "Vegetarian-Friendly Restaurants in New Delhi · 1. K3. 4.8. (2,532). Open now. Indian, Mediterranean$$$$ · 2. Thyme. 4.9. (2,037). Open now.\n",
      "Triveni Terrace Cafe in Mandi House. Cafe vibes, serves both veg and non-veg but has unique veg options. Burma Burma in multiple locations. Pure ...\n",
      "Top 10 must try vegetarian restaurants in Delhi. Yes, time for another list! This is specially for my vegetarian friends and is Navratri compliant as well.\n",
      "\u001b[00m\n",
      "\u001b[95m \n",
      "\n",
      "Vegetarian-Friendly Restaurants in New Delhi · 1. K3. 4.8. (2,532). Open now. Indian, Mediterranean$$$$ · 2. Thyme. 4.9. (2,037). Open now.\n",
      "Triveni Terrace Cafe in Mandi House. Cafe vibes, serves both veg and non-veg but has unique veg options. Burma Burma in multiple locations. Pure ...\n",
      "Best vada pav in the world !! If you have eaten anything better, I shall really be surprised. At Ashok Vada Pav, Near Keerti College, Dadar, ...\n",
      "\u001b[00m\n",
      "\u001b[1m\u001b[92m [DEBUG]: == [Query Resolver] Task output: The top two highly-rated vegetarian restaurants in Delhi are K3 (4.8 rating) and Thyme (4.9 rating).\n",
      "\n",
      "\u001b[00m\n",
      "Response:\n",
      " The top two highly-rated vegetarian restaurants in Delhi are K3 (4.8 rating) and Thyme (4.9 rating).\n"
     ]
    }
   ],
   "source": [
    "# Crew to Manage Execution\n",
    "crew = Crew(\n",
    "    agents=[query_agent],\n",
    "    tasks=[query_task],\n",
    "    verbose=True\n",
    ")\n",
    "\n",
    "# Example Query\n",
    "# user_question = \"What is the weather today in Ratlam, Madhya Pradesh, India?\"\n",
    "# response = crew.kickoff(inputs={\"user_question\": user_question})\n",
    "\n",
    "# **Run AI Assistant**\n",
    "user_question = input(\"Ask me anything? \")\n",
    "response = crew.kickoff(inputs={\"user_question\": user_question})\n",
    "\n",
    "print(\"Response:\\n\", response)"
   ]
  },
  {
   "cell_type": "code",
   "execution_count": null,
   "metadata": {},
   "outputs": [],
   "source": []
  }
 ],
 "metadata": {
  "kernelspec": {
   "display_name": "crew_ai_agent",
   "language": "python",
   "name": "python3"
  },
  "language_info": {
   "codemirror_mode": {
    "name": "ipython",
    "version": 3
   },
   "file_extension": ".py",
   "mimetype": "text/x-python",
   "name": "python",
   "nbconvert_exporter": "python",
   "pygments_lexer": "ipython3",
   "version": "3.11.11"
  }
 },
 "nbformat": 4,
 "nbformat_minor": 2
}
